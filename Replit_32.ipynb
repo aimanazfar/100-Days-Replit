{
 "cells": [
  {
   "cell_type": "code",
   "execution_count": 7,
   "metadata": {},
   "outputs": [
    {
     "name": "stdout",
     "output_type": "stream",
     "text": [
      "Computer Science\n",
      "Math\n",
      "English\n",
      "Art\n",
      "Sport\n",
      "Computer Science\n",
      "Math\n",
      "English\n",
      "Art\n",
      "Watch TV\n"
     ]
    }
   ],
   "source": [
    "timetable = [\"Computer Science\", \"Math\", \"English\", \"Art\", \"Sport\"]\n",
    "print(timetable[0])\n",
    "print(timetable[1])\n",
    "print(timetable[2])\n",
    "print(timetable[3])\n",
    "print(timetable[4])\n",
    "\n",
    "timetable[4]= \"Watch TV\"\n",
    "print(timetable[0])\n",
    "print(timetable[1])\n",
    "print(timetable[2])\n",
    "print(timetable[3])\n",
    "print(timetable[4])"
   ]
  },
  {
   "cell_type": "code",
   "execution_count": 9,
   "metadata": {},
   "outputs": [
    {
     "name": "stdout",
     "output_type": "stream",
     "text": [
      "Computer Science\n",
      "Math\n",
      "English\n",
      "Art\n",
      "Sport\n"
     ]
    }
   ],
   "source": [
    "timetable = [\"Computer Science\", \"Math\", \"English\", \"Art\", \"Sport\"]\n",
    "\n",
    "for lesson in timetable:\n",
    "    print(lesson)\n"
   ]
  },
  {
   "cell_type": "code",
   "execution_count": 12,
   "metadata": {},
   "outputs": [
    {
     "name": "stdout",
     "output_type": "stream",
     "text": [
      "The first grocery item to buy is bananas.\n"
     ]
    }
   ],
   "source": [
    "grocerylist = [\"bananas\", \"bread\", \"milk\", \"eggs\", \"juice\", \"cheese\"]\n",
    "print(f\"The first grocery item to buy is {grocerylist[0]}.\")"
   ]
  },
  {
   "cell_type": "code",
   "execution_count": 28,
   "metadata": {},
   "outputs": [
    {
     "name": "stdout",
     "output_type": "stream",
     "text": [
      "Greeting: Zdravstvuyte\n"
     ]
    }
   ],
   "source": [
    "## Challenge\n",
    "\n",
    "import random\n",
    "\n",
    "greeting = [\"Apa Khabar\",\"Bonjour\",\"Zdravstvuyte\",\"Konnichiwa\",\"Goddag\",\"Selamat siang\"]\n",
    "\n",
    "print(f\"Greeting: {greeting[random.randint(0,5)]}\")"
   ]
  },
  {
   "cell_type": "code",
   "execution_count": 30,
   "metadata": {},
   "outputs": [
    {
     "name": "stdout",
     "output_type": "stream",
     "text": [
      "Guten Tag!\n"
     ]
    }
   ],
   "source": [
    "import random\n",
    "greetings = [\"Hello there!\", \"Konnichiwa\", \"Guten Tag!\", \"Bore Da!\"]\n",
    "index = random.randint(0,3)\n",
    "print(greetings[index])\n"
   ]
  }
 ],
 "metadata": {
  "kernelspec": {
   "display_name": "test",
   "language": "python",
   "name": "python3"
  },
  "language_info": {
   "codemirror_mode": {
    "name": "ipython",
    "version": 3
   },
   "file_extension": ".py",
   "mimetype": "text/x-python",
   "name": "python",
   "nbconvert_exporter": "python",
   "pygments_lexer": "ipython3",
   "version": "3.9.16"
  },
  "orig_nbformat": 4
 },
 "nbformat": 4,
 "nbformat_minor": 2
}
