{
 "cells": [
  {
   "cell_type": "code",
   "execution_count": 6,
   "metadata": {},
   "outputs": [
    {
     "name": "stdout",
     "output_type": "stream",
     "text": [
      "Power!\n"
     ]
    }
   ],
   "source": [
    "myScore = int (input(\"what is your score?\"))\n",
    "if myScore >= 100:\n",
    "    print(\"Power!\")\n",
    "else:\n",
    "    print(\"Noob\")"
   ]
  },
  {
   "cell_type": "code",
   "execution_count": 10,
   "metadata": {},
   "outputs": [
    {
     "name": "stdout",
     "output_type": "stream",
     "text": [
      "Power!\n"
     ]
    }
   ],
   "source": [
    "mypi = float (input(\"what is your score?\"))\n",
    "if mypi == 3.142:\n",
    "    print(\"Power!\")\n",
    "else:\n",
    "    print(\"Noob\")"
   ]
  },
  {
   "cell_type": "code",
   "execution_count": 13,
   "metadata": {},
   "outputs": [
    {
     "name": "stdout",
     "output_type": "stream",
     "text": [
      "Generation Identifier\n",
      "Greatest Generation\n"
     ]
    }
   ],
   "source": [
    "print(\"Generation Identifier\")\n",
    "myYear = int(input(\"What year were you born in?\"))\n",
    "\n",
    "if myYear >= 1833 and myYear <=1900:\n",
    "    print(\"Lost Generation\")\n",
    "elif myYear >= 1901 and myYear <= 1927:\n",
    "    print(\"Greatest Generation\")\n",
    "elif myYear >= 1928 and myYear <=1945:\n",
    "    print(\"Silent Generation\")\n",
    "else:\n",
    "    print(\"You're okay\")"
   ]
  }
 ],
 "metadata": {
  "kernelspec": {
   "display_name": "test",
   "language": "python",
   "name": "python3"
  },
  "language_info": {
   "codemirror_mode": {
    "name": "ipython",
    "version": 3
   },
   "file_extension": ".py",
   "mimetype": "text/x-python",
   "name": "python",
   "nbconvert_exporter": "python",
   "pygments_lexer": "ipython3",
   "version": "3.9.16"
  },
  "orig_nbformat": 4
 },
 "nbformat": 4,
 "nbformat_minor": 2
}
