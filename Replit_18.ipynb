{
 "cells": [
  {
   "cell_type": "code",
   "execution_count": 2,
   "metadata": {},
   "outputs": [
    {
     "name": "stdout",
     "output_type": "stream",
     "text": [
      "Guess the number\n",
      "Too low\n",
      "Too low\n",
      "Too high..\n",
      "Too high..\n",
      "Too high..\n",
      "Too low\n",
      "Too low\n",
      "Too low\n",
      "Too low\n",
      "Too low\n",
      "You've won!\n",
      "Game is over\n"
     ]
    }
   ],
   "source": [
    "print(\"Guess the number\")\n",
    "\n",
    "secretNumber = 458\n",
    "numberOfGuess = 1\n",
    "\n",
    "while True :\n",
    "    userInput = int(input(\"What is your guess?: \"))\n",
    "\n",
    "    if userInput > secretNumber :\n",
    "        print(\"Too high..\")\n",
    "        continue\n",
    "    elif userInput < secretNumber :\n",
    "        print(\"Too low\")\n",
    "        continue\n",
    "    elif userInput == secretNumber :\n",
    "        print(\"You've won!\")\n",
    "        break\n",
    "print(\"Game is over\")"
   ]
  }
 ],
 "metadata": {
  "kernelspec": {
   "display_name": "test",
   "language": "python",
   "name": "python3"
  },
  "language_info": {
   "codemirror_mode": {
    "name": "ipython",
    "version": 3
   },
   "file_extension": ".py",
   "mimetype": "text/x-python",
   "name": "python",
   "nbconvert_exporter": "python",
   "pygments_lexer": "ipython3",
   "version": "3.9.16"
  },
  "orig_nbformat": 4
 },
 "nbformat": 4,
 "nbformat_minor": 2
}
