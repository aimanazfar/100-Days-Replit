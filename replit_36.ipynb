{
 "cells": [
  {
   "cell_type": "code",
   "execution_count": null,
   "metadata": {},
   "outputs": [],
   "source": []
  },
  {
   "cell_type": "code",
   "execution_count": 8,
   "metadata": {},
   "outputs": [
    {
     "name": "stdout",
     "output_type": "stream",
     "text": [
      "Name has been added\n",
      "fin\n"
     ]
    }
   ],
   "source": [
    "from IPython.display import clear_output\n",
    "import time\n",
    "finalNameList =[]\n",
    "\n",
    "def printList():\n",
    "    for i in finalNameList:\n",
    "        print(i)\n",
    "\n",
    "while True:\n",
    "    action = input(\"Would you like to add a name?\")\n",
    "\n",
    "    if action == \"y\":\n",
    "        clear_output(wait=True)\n",
    "        first = input(\"What is your first name?\").strip().capitalize()\n",
    "        last = input(\"What is your last name?\").strip().capitalize()\n",
    "        fullName = f\"{first} {last}\"\n",
    "\n",
    "        if fullName in finalNameList:\n",
    "            print(\"Name has been added\") \n",
    "        else:\n",
    "            finalNameList.append(fullName)\n",
    "            printList()\n",
    "\n",
    "    else:\n",
    "        break\n",
    "\n",
    "print(\"fin\")\n"
   ]
  }
 ],
 "metadata": {
  "kernelspec": {
   "display_name": "test",
   "language": "python",
   "name": "python3"
  },
  "language_info": {
   "codemirror_mode": {
    "name": "ipython",
    "version": 3
   },
   "file_extension": ".py",
   "mimetype": "text/x-python",
   "name": "python",
   "nbconvert_exporter": "python",
   "pygments_lexer": "ipython3",
   "version": "3.9.16"
  },
  "orig_nbformat": 4
 },
 "nbformat": 4,
 "nbformat_minor": 2
}
