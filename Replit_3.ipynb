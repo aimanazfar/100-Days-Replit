{
 "cells": [
  {
   "cell_type": "code",
   "execution_count": 3,
   "id": "211bfedf",
   "metadata": {},
   "outputs": [
    {
     "name": "stdout",
     "output_type": "stream",
     "text": [
      "Where do you stay: Saujana\n",
      "How many parking do you have: 2\n",
      "How much is the rent: 2300\n",
      "You're staying at Saujana , with 2 parking spot. The rent is 2300 .\n"
     ]
    }
   ],
   "source": [
    "location = input(\"Where do you stay: \")\n",
    "parkingspot = input(\"How many parking do you have: \")\n",
    "rent = input(\"How much is the rent: \")\n",
    "print(\"You're staying at\", location, \", with\", parkingspot, \"parking spot. The rent is\",rent,\".\")"
   ]
  },
  {
   "cell_type": "code",
   "execution_count": null,
   "id": "f6094081",
   "metadata": {},
   "outputs": [],
   "source": []
  }
 ],
 "metadata": {
  "kernelspec": {
   "display_name": "Python 3 (ipykernel)",
   "language": "python",
   "name": "python3"
  },
  "language_info": {
   "codemirror_mode": {
    "name": "ipython",
    "version": 3
   },
   "file_extension": ".py",
   "mimetype": "text/x-python",
   "name": "python",
   "nbconvert_exporter": "python",
   "pygments_lexer": "ipython3",
   "version": "3.9.16"
  }
 },
 "nbformat": 4,
 "nbformat_minor": 5
}
