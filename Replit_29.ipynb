{
 "cells": [
  {
   "cell_type": "code",
   "execution_count": 3,
   "metadata": {},
   "outputs": [
    {
     "name": "stdout",
     "output_type": "stream",
     "text": [
      "If you put \u001b[33mnothing as the \u001b[35mend character \u001b[32mthen you don't \u001b[0mget odd gaps \n"
     ]
    }
   ],
   "source": [
    "print(\"If you put \", \"\\033[33m\", \"nothing as the \", \"\\033[35m\", \"end character \", \"\\033[32m\", \"then you don't \", \"\\033[0m\", \"get odd gaps \", sep=\"\")"
   ]
  },
  {
   "cell_type": "code",
   "execution_count": 4,
   "metadata": {},
   "outputs": [
    {
     "name": "stdout",
     "output_type": "stream",
     "text": [
      "\u001b[?25l1\n",
      "2\n",
      "3\n",
      "4\n",
      "5\n",
      "6\n",
      "7\n",
      "8\n",
      "9\n",
      "10\n",
      "11\n",
      "12\n",
      "13\n",
      "14\n",
      "15\n",
      "16\n",
      "17\n",
      "18\n",
      "19\n",
      "20\n",
      "21\n",
      "22\n",
      "23\n",
      "24\n",
      "25\n",
      "26\n",
      "27\n",
      "28\n",
      "29\n",
      "30\n",
      "31\n",
      "32\n",
      "33\n",
      "34\n",
      "35\n",
      "36\n",
      "37\n",
      "38\n",
      "39\n",
      "40\n",
      "41\n",
      "42\n",
      "43\n",
      "44\n",
      "45\n",
      "46\n",
      "47\n",
      "48\n",
      "49\n",
      "50\n",
      "51\n",
      "52\n",
      "53\n",
      "54\n",
      "55\n",
      "56\n",
      "57\n",
      "58\n",
      "59\n",
      "60\n",
      "61\n",
      "62\n",
      "63\n",
      "64\n",
      "65\n",
      "66\n",
      "67\n",
      "68\n",
      "69\n",
      "70\n",
      "71\n",
      "72\n",
      "73\n",
      "74\n",
      "75\n",
      "76\n",
      "77\n",
      "78\n",
      "79\n",
      "80\n",
      "81\n",
      "82\n",
      "83\n",
      "84\n",
      "85\n",
      "86\n",
      "87\n",
      "88\n",
      "89\n",
      "90\n",
      "91\n",
      "92\n",
      "93\n",
      "94\n",
      "95\n",
      "96\n",
      "97\n",
      "98\n",
      "99\n",
      "100\n"
     ]
    }
   ],
   "source": [
    "import os, time\n",
    "print('\\033[?25l', end=\"\")\n",
    "for i in range(1, 101):\n",
    "  print(i)\n",
    "  time.sleep(0.2)\n",
    "  os.system(\"clear\")"
   ]
  },
  {
   "cell_type": "code",
   "execution_count": 18,
   "metadata": {},
   "outputs": [
    {
     "name": "stdout",
     "output_type": "stream",
     "text": [
      "Super Subroutine\n",
      "With my \u001b[31mnew program\u001b[34m I can just call red('and') \u001b[32mit will print in red \u001b[0mor even blue"
     ]
    }
   ],
   "source": [
    "def newPrint(color, word):\n",
    "  if color==\"red\":\n",
    "    print(\"\\033[31m\", word,sep=\"\",end=\"\")\n",
    "  elif color==\"green\":\n",
    "    print(\"\\033[32m\", word, sep=\"\", end=\"\")\n",
    "  elif color==\"blue\":\n",
    "    print(\"\\033[34m\", word, sep=\"\", end=\"\")\n",
    "  else:\n",
    "    print(\"\\033[0m\", word, sep=\"\", end=\"\")\n",
    "\n",
    "print(\"Super Subroutine\")\n",
    "print(\"With my \",end=\"\")\n",
    "newPrint(\"red\", \"new program\")\n",
    "newPrint(\"blue\", \" I can just call red('and') \")\n",
    "newPrint(\"green\", \"it will print in red \")\n",
    "newPrint(\"reset\", \"or even blue\")"
   ]
  },
  {
   "cell_type": "code",
   "execution_count": 27,
   "metadata": {},
   "outputs": [
    {
     "name": "stdout",
     "output_type": "stream",
     "text": [
      "If you put \u001b[33m nothing as the \u001b[35m end character \u001b[32m then you don't \u001b[0m get odd gaps\n"
     ]
    }
   ],
   "source": [
    "print(\"If you put\", \"\\033[33m\", \"nothing as the\", \"\\033[35m\", \"end character\", \"\\033[32m\", \"then you don't\", \"\\033[0m\", \"get odd gaps\", sep=\" \")"
   ]
  }
 ],
 "metadata": {
  "kernelspec": {
   "display_name": "test",
   "language": "python",
   "name": "python3"
  },
  "language_info": {
   "codemirror_mode": {
    "name": "ipython",
    "version": 3
   },
   "file_extension": ".py",
   "mimetype": "text/x-python",
   "name": "python",
   "nbconvert_exporter": "python",
   "pygments_lexer": "ipython3",
   "version": "3.9.16"
  },
  "orig_nbformat": 4
 },
 "nbformat": 4,
 "nbformat_minor": 2
}
