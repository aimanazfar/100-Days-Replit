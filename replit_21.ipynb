{
 "cells": [
  {
   "cell_type": "code",
   "execution_count": 7,
   "metadata": {},
   "outputs": [
    {
     "name": "stdout",
     "output_type": "stream",
     "text": [
      "Math Guessing competition!\n",
      "What is 1 X 22 ?\n",
      "Correct!\n",
      "What is 2 X 22 ?\n",
      "Correct!\n",
      "What is 3 X 22 ?\n",
      "Incorrect! The asnwer is 66\n",
      "What is 4 X 22 ?\n",
      "Incorrect! The asnwer is 88\n",
      "The game is over. You got 2  out of 4 correct.\n"
     ]
    }
   ],
   "source": [
    "print(\"Math Guessing competition!\")\n",
    "\n",
    "counter = 0\n",
    "\n",
    "x = int(input(\"What's your multiplier?:\" ))\n",
    "\n",
    "for y in range (1,5):\n",
    "    print(\"What is\",y,\"X\",x,\"?\")\n",
    "    z = int(input())\n",
    "    if z == y*x:\n",
    "        print(\"Correct!\")\n",
    "        counter += 1\n",
    "    else:\n",
    "        print(\"Incorrect! The asnwer is\",y*x)\n",
    "print(\"The game is over. You got\",counter,\" out of\",y,\"correct.\")"
   ]
  }
 ],
 "metadata": {
  "kernelspec": {
   "display_name": "test",
   "language": "python",
   "name": "python3"
  },
  "language_info": {
   "codemirror_mode": {
    "name": "ipython",
    "version": 3
   },
   "file_extension": ".py",
   "mimetype": "text/x-python",
   "name": "python",
   "nbconvert_exporter": "python",
   "pygments_lexer": "ipython3",
   "version": "3.9.16"
  },
  "orig_nbformat": 4
 },
 "nbformat": 4,
 "nbformat_minor": 2
}
