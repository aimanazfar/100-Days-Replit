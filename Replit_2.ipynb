{
 "cells": [
  {
   "cell_type": "code",
   "execution_count": 1,
   "id": "e586e6f7",
   "metadata": {},
   "outputs": [
    {
     "name": "stdout",
     "output_type": "stream",
     "text": [
      "What's your name?: azfar\n"
     ]
    },
    {
     "data": {
      "text/plain": [
       "'azfar'"
      ]
     },
     "execution_count": 1,
     "metadata": {},
     "output_type": "execute_result"
    }
   ],
   "source": [
    "input(\"What's your name?: \")"
   ]
  },
  {
   "cell_type": "code",
   "execution_count": 3,
   "id": "9794f784",
   "metadata": {},
   "outputs": [
    {
     "name": "stdout",
     "output_type": "stream",
     "text": [
      "What's your name?: Azfar\n",
      "How old are you?: 5\n",
      "Your name is \n",
      "Azfar\n",
      "And your age is \n",
      "5\n"
     ]
    }
   ],
   "source": [
    "myName = input(\"What's your name?: \")\n",
    "myAge = input(\"How old are you?: \")\n",
    "print(\"Your name is \")\n",
    "print(myName)\n",
    "print(\"And your age is \")\n",
    "print(myAge)"
   ]
  },
  {
   "cell_type": "code",
   "execution_count": 4,
   "id": "4a73f145",
   "metadata": {},
   "outputs": [
    {
     "name": "stdout",
     "output_type": "stream",
     "text": [
      "Your favorite food is Nasi Lemak\n",
      "Nasi Lemak\n"
     ]
    }
   ],
   "source": [
    "makan = input(\"Your favorite food is \")\n",
    "print(makan)"
   ]
  },
  {
   "cell_type": "code",
   "execution_count": 6,
   "id": "b452deaa",
   "metadata": {},
   "outputs": [
    {
     "name": "stdout",
     "output_type": "stream",
     "text": [
      "Let;s get to know you\n",
      "\n",
      "Please enter your name: Azfar\n",
      "Please enter your age: 23\n",
      "One more! Where do you currently stay: Shah Alam\n",
      "\n",
      "Your name is \n",
      "Azfar\n",
      "Your age is \n",
      "23\n",
      "You are staying at \n",
      "Shah Alam\n"
     ]
    }
   ],
   "source": [
    "print(\"Let;s get to know you\")\n",
    "print()\n",
    "yourName = input(\"Please enter your name: \")\n",
    "yourAge = input(\"Please enter your age: \")\n",
    "yourLocation = input(\"One more! Where do you currently stay: \")\n",
    "print()\n",
    "print(\"Your name is \")\n",
    "print(yourName)\n",
    "print(\"Your age is \")\n",
    "print(yourAge)\n",
    "print(\"You are staying at \")\n",
    "print(yourLocation)"
   ]
  },
  {
   "cell_type": "code",
   "execution_count": null,
   "id": "0a382e79",
   "metadata": {},
   "outputs": [],
   "source": []
  }
 ],
 "metadata": {
  "kernelspec": {
   "display_name": "Python 3 (ipykernel)",
   "language": "python",
   "name": "python3"
  },
  "language_info": {
   "codemirror_mode": {
    "name": "ipython",
    "version": 3
   },
   "file_extension": ".py",
   "mimetype": "text/x-python",
   "name": "python",
   "nbconvert_exporter": "python",
   "pygments_lexer": "ipython3",
   "version": "3.9.16"
  }
 },
 "nbformat": 4,
 "nbformat_minor": 5
}
