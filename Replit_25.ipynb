{
 "cells": [
  {
   "cell_type": "code",
   "execution_count": 1,
   "metadata": {},
   "outputs": [
    {
     "name": "stdout",
     "output_type": "stream",
     "text": [
      "⚔️ Character Creator\n",
      "Chacter: Majinbu\n",
      "Health: 3\n"
     ]
    },
    {
     "ename": "",
     "evalue": "",
     "output_type": "error",
     "traceback": [
      "\u001b[1;31mThe Kernel crashed while executing code in the the current cell or a previous cell. Please review the code in the cell(s) to identify a possible cause of the failure. Click <a href='https://aka.ms/vscodeJupyterKernelCrash'>here</a> for more info. View Jupyter <a href='command:jupyter.viewOutput'>log</a> for further details."
     ]
    }
   ],
   "source": [
    "#Challenge Day25\n",
    "\n",
    "import random\n",
    "print(\"⚔️ Character Creator\")\n",
    "\n",
    "haveCharacter = \"Yes\"\n",
    "\n",
    "def roll_6_roll8():\n",
    "    roll6 = random.randint(1,6)\n",
    "    roll8 = random.randint(1,8)\n",
    "    result = roll6 * roll8\n",
    "    return result\n",
    "\n",
    "while haveCharacter == \"Yes\":\n",
    "    charName = input(\"What is your character name\")\n",
    "    health = str(roll_6_roll8())\n",
    "    print(\"Chacter:\",charName)\n",
    "    print(\"Health:\",health)\n",
    "    haveCharacter = input(\"Create another character?\")\n"
   ]
  },
  {
   "cell_type": "code",
   "execution_count": 22,
   "metadata": {},
   "outputs": [
    {
     "name": "stdout",
     "output_type": "stream",
     "text": [
      "⚔️Character stats generator⚔️\n",
      "Their health is  35 hp\n",
      "Their health is  14 hp\n"
     ]
    }
   ],
   "source": [
    "import random\n",
    "\n",
    "def rollDice(sides):\n",
    "  result = random.randint(1,sides)\n",
    "  return result\n",
    "\n",
    "def roll_6_and_8():\n",
    "  roll_6_sided_dice = rollDice(6)\n",
    "  roll_8_sided_dice = rollDice(8)\n",
    "  health = roll_6_sided_dice * roll_8_sided_dice\n",
    "  return health\n",
    "\n",
    "print(\"⚔️Character stats generator⚔️\")\n",
    "  \n",
    "\n",
    "haveACharacter = \"yes\"\n",
    "\n",
    "while haveACharacter == \"yes\":\n",
    "  character = input(\"Name your warrior: \")\n",
    "  health = str(roll_6_and_8())\n",
    "  print(\"Their health is \", health,\"hp\" ) \n",
    "  haveACharacter = input(\"Want to create another character?\")"
   ]
  }
 ],
 "metadata": {
  "kernelspec": {
   "display_name": "test",
   "language": "python",
   "name": "python3"
  },
  "language_info": {
   "codemirror_mode": {
    "name": "ipython",
    "version": 3
   },
   "file_extension": ".py",
   "mimetype": "text/x-python",
   "name": "python",
   "nbconvert_exporter": "python",
   "pygments_lexer": "ipython3",
   "version": "3.9.16"
  },
  "orig_nbformat": 4
 },
 "nbformat": 4,
 "nbformat_minor": 2
}
