{
 "cells": [
  {
   "cell_type": "code",
   "execution_count": 1,
   "metadata": {},
   "outputs": [
    {
     "name": "stdout",
     "output_type": "stream",
     "text": [
      "You are in a corridor, do you go left or right?\n",
      "Genius!\n",
      "You are in a corridor, do you go left or right?\n"
     ]
    }
   ],
   "source": [
    "while True:\n",
    "    print(\"You are in a corridor, do you go left or right?\")\n",
    "    direction = input(\"> \")\n",
    "    if direction == \"left\":\n",
    "        print(\"You have fallen to your death\")\n",
    "        break\n",
    "    elif direction == \"right\":\n",
    "        continue\n",
    "    else:\n",
    "        print(\"Genius!\")\n",
    "        exit()\n",
    "print(\"The game is over\")"
   ]
  },
  {
   "cell_type": "code",
   "execution_count": 10,
   "metadata": {},
   "outputs": [
    {
     "name": "stdout",
     "output_type": "stream",
     "text": [
      "Round 1\n",
      "Player 1: 1\n",
      "Player 2: 0\n",
      "Round 2\n",
      "Player 1: 2\n",
      "Player 2: 0\n",
      "Round 3\n",
      "Player 1: 3\n",
      "Player 2: 0\n",
      "The game is over after 4 rounds.\n",
      "Player 1 won!\n",
      "3\n"
     ]
    }
   ],
   "source": [
    "from getpass import getpass as input\n",
    "\n",
    "player1Score = 0\n",
    "player2Score = 0\n",
    "round = 1\n",
    "\n",
    "while player1Score + player2Score < 3:\n",
    "    print(\"Round\",round)\n",
    "    player1 = input(\"Player 1 choose Rock, Paper, Scissor\")\n",
    "    player2 = input(\"Player 2 choose Rock, Paper, Scissor\")\n",
    "\n",
    "    if player1 == player2:\n",
    "        round += 1\n",
    "        print(\"Player 1:\",player1Score)\n",
    "        print(\"Player 2:\",player2Score)\n",
    "        continue\n",
    "    elif(\n",
    "        (player1 == \"rock\" and player2 == \"scissor\") or\n",
    "        (player1 == \"paper\" and player2 == \"rock\") or\n",
    "        (player1 == \"scissor\" and player2 == \"paper\")\n",
    "        \n",
    "    ):\n",
    "        player1Score += 1\n",
    "        round += 1\n",
    "        print(\"Player 1:\",player1Score)\n",
    "        print(\"Player 2:\",player2Score)\n",
    "        continue\n",
    "    else:\n",
    "        player2Score += 1\n",
    "        round += 1\n",
    "        print(\"Player 1:\",player1Score)\n",
    "        print(\"Player 2:\",player2Score)\n",
    "        continue\n",
    "print(\"The game is over after\",round,\"rounds.\")\n",
    "if player1Score > player2Score:\n",
    "    print(\"Player 1 won!\")\n",
    "    print(player1Score)\n",
    "else:\n",
    "    print(\"Player 2 won!\")\n",
    "    print(player2Score)"
   ]
  }
 ],
 "metadata": {
  "kernelspec": {
   "display_name": "test",
   "language": "python",
   "name": "python3"
  },
  "language_info": {
   "codemirror_mode": {
    "name": "ipython",
    "version": 3
   },
   "file_extension": ".py",
   "mimetype": "text/x-python",
   "name": "python",
   "nbconvert_exporter": "python",
   "pygments_lexer": "ipython3",
   "version": "3.9.16"
  },
  "orig_nbformat": 4
 },
 "nbformat": 4,
 "nbformat_minor": 2
}
