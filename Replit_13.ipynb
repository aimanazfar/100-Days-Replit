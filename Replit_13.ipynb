{
 "cells": [
  {
   "cell_type": "code",
   "execution_count": 8,
   "metadata": {},
   "outputs": [
    {
     "name": "stdout",
     "output_type": "stream",
     "text": [
      "0.96\n",
      "Your score for test py is A+\n"
     ]
    }
   ],
   "source": [
    "# Get Variables\n",
    "testName = input(\"What is your Exam name\")\n",
    "maxScore = int(input(\"What is the max score you can get?\"))\n",
    "userScore = float(input(\"What is your score?\"))\n",
    "\n",
    "# Get percetage\n",
    "\n",
    "userPercentage = round(userScore/100,2)\n",
    "print(userPercentage)\n",
    "\n",
    "if userPercentage >= 0.9 and userPercentage <= 1:\n",
    "    print(\"Your score for test\",testName,\"is A+\")\n",
    "elif userPercentage >= 0.8 and userPercentage <= 0.89:\n",
    "    print(\"Your score for test\",testName,\"is A\")\n",
    "elif userPercentage >= 0.7 and userPercentage <= 0.79:\n",
    "    print(\"Your score for test\",testName,\"is B\")\n",
    "elif userPercentage >= 0.6 and userPercentage <= 0.69:\n",
    "    print(\"Your score for test\",testName,\"is C\")\n",
    "elif userPercentage >= 0.5 and userPercentage <= 0.59:\n",
    "    print(\"Your score for test\",testName,\"is D\")\n",
    "else:\n",
    "    print(\"Your score for test\",testName,\"is U\")\n"
   ]
  }
 ],
 "metadata": {
  "kernelspec": {
   "display_name": "test",
   "language": "python",
   "name": "python3"
  },
  "language_info": {
   "codemirror_mode": {
    "name": "ipython",
    "version": 3
   },
   "file_extension": ".py",
   "mimetype": "text/x-python",
   "name": "python",
   "nbconvert_exporter": "python",
   "pygments_lexer": "ipython3",
   "version": "3.9.16"
  },
  "orig_nbformat": 4
 },
 "nbformat": 4,
 "nbformat_minor": 2
}
