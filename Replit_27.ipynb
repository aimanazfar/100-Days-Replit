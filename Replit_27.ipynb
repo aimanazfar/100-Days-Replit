{
 "cells": [
  {
   "cell_type": "code",
   "execution_count": 8,
   "metadata": {},
   "outputs": [
    {
     "name": "stdout",
     "output_type": "stream",
     "text": [
      "Character Name: Machito\n",
      "Strength: 18.0\n",
      "Health: 13.0\n",
      "Goodluck in your journey!\n"
     ]
    }
   ],
   "source": [
    "from IPython.display import clear_output\n",
    "import time, random\n",
    "\n",
    "print(\"⚔️ Character Builder\")\n",
    "\n",
    "def rollDice(side):\n",
    "  result = random.randint(1,side)\n",
    "  return result\n",
    "\n",
    "def healthCalc():\n",
    "\n",
    "    healthst = (rollDice(6) + rollDice(12))/2 + 10\n",
    "\n",
    "    return healthst\n",
    "\n",
    "def strengthCalc():\n",
    "\n",
    "    strengthst = (rollDice(6) + rollDice(12))/2 + 12\n",
    "\n",
    "    return strengthst\n",
    "\n",
    "createCharacter = \"yes\"\n",
    "\n",
    "while createCharacter == \"yes\":\n",
    "    clear_output(wait=True)\n",
    "    legendName = input(\"What is the legend's name?\")\n",
    "    legendType = input(\"What is the legend's character type?\")\n",
    "\n",
    "    strength = strengthCalc()\n",
    "    health = healthCalc()\n",
    "\n",
    "    print(\"Character Name:\",legendName)\n",
    "    time.sleep(1)\n",
    "    print(\"Strength:\",strength)\n",
    "    time.sleep(1)\n",
    "    print(\"Health:\",health)\n",
    "\n",
    "    createCharacter = input(\"Create another character?\")\n",
    "    \n",
    "clear_output(wait=True)\n",
    "print(\"Goodluck in your journey!\")\n"
   ]
  }
 ],
 "metadata": {
  "kernelspec": {
   "display_name": "test",
   "language": "python",
   "name": "python3"
  },
  "language_info": {
   "codemirror_mode": {
    "name": "ipython",
    "version": 3
   },
   "file_extension": ".py",
   "mimetype": "text/x-python",
   "name": "python",
   "nbconvert_exporter": "python",
   "pygments_lexer": "ipython3",
   "version": "3.9.16"
  },
  "orig_nbformat": 4
 },
 "nbformat": 4,
 "nbformat_minor": 2
}
