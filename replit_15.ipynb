{
 "cells": [
  {
   "cell_type": "code",
   "execution_count": 2,
   "metadata": {},
   "outputs": [
    {
     "name": "stdout",
     "output_type": "stream",
     "text": [
      "0\n",
      "2\n",
      "4\n",
      "6\n",
      "8\n",
      "10\n",
      "12\n",
      "14\n",
      "16\n",
      "18\n",
      "20\n",
      "22\n",
      "24\n",
      "26\n",
      "28\n",
      "30\n",
      "32\n",
      "34\n",
      "36\n",
      "38\n",
      "40\n",
      "42\n",
      "44\n",
      "46\n",
      "48\n"
     ]
    }
   ],
   "source": [
    "counter = 0\n",
    "while counter < 50 :\n",
    "    print(counter)\n",
    "    counter += 2"
   ]
  },
  {
   "cell_type": "code",
   "execution_count": 4,
   "metadata": {},
   "outputs": [
    {
     "name": "stdout",
     "output_type": "stream",
     "text": [
      "🙈\n",
      "🙈\n",
      "🙈\n",
      "🙈\n",
      "🙈\n",
      "🙈\n",
      "ok\n"
     ]
    }
   ],
   "source": [
    "Exit = \"\"\n",
    "while Exit != \"Yes\":\n",
    "    print(\"🙈\")\n",
    "    Exit = input(\"Stop this game?\")\n",
    "\n",
    "print(\"ok\")"
   ]
  },
  {
   "cell_type": "code",
   "execution_count": 6,
   "metadata": {},
   "outputs": [
    {
     "name": "stdout",
     "output_type": "stream",
     "text": [
      "0\n",
      "1\n",
      "2\n",
      "3\n",
      "4\n",
      "5\n",
      "6\n",
      "7\n",
      "8\n",
      "9\n"
     ]
    }
   ],
   "source": [
    "counter = 0\n",
    "while counter < 10:\n",
    "    print(counter)\n",
    "    counter += 1"
   ]
  },
  {
   "cell_type": "code",
   "execution_count": 2,
   "metadata": {},
   "outputs": [
    {
     "name": "stdout",
     "output_type": "stream",
     "text": [
      "Choose either cow, rat or frog\n",
      "Rat goes ssssss\n",
      "Rat goes ssssss\n",
      "Cow goes mooo\n",
      "Frog goes ribbit\n",
      "Cow goes mooo\n",
      "Thank you for playing\n"
     ]
    }
   ],
   "source": [
    "print(\"Choose either cow, rat or frog\")\n",
    "\n",
    "stop = \"\"\n",
    "\n",
    "while stop != \"Yes\":\n",
    "    \n",
    "    animal = input(\"What animal do you want to hear the sound of?\")\n",
    "    \n",
    "    if animal == \"cow\":\n",
    "        print(\"Cow goes mooo\")\n",
    "    elif animal == \"rat\":\n",
    "        print(\"Rat goes ssssss\")\n",
    "    elif animal == \"frog\":\n",
    "        print(\"Frog goes ribbit\")\n",
    "    else:\n",
    "        print(\"I dont know that animal..\")\n",
    "    \n",
    "    stop = input(\"Do you want to stop?\")\n",
    "    \n",
    "print(\"Thank you for playing\")"
   ]
  },
  {
   "cell_type": "code",
   "execution_count": 5,
   "metadata": {},
   "outputs": [
    {
     "name": "stdout",
     "output_type": "stream",
     "text": [
      "I dont know that animal..\n"
     ]
    }
   ],
   "source": [
    "animal = input(\"What animal do you want to hear the sound of?\")\n",
    "    \n",
    "if animal == \"cow\":\n",
    "    print(\"Cow goes mooo\")\n",
    "elif animal == \"rat\":\n",
    "    print(\"Rat goes ssssss\")\n",
    "elif animal == \"frog\":\n",
    "    print(\"Frog goes ribbit\")\n",
    "else:\n",
    "    print(\"I dont know that animal..\")\n",
    "    "
   ]
  }
 ],
 "metadata": {
  "kernelspec": {
   "display_name": "test",
   "language": "python",
   "name": "python3"
  },
  "language_info": {
   "codemirror_mode": {
    "name": "ipython",
    "version": 3
   },
   "file_extension": ".py",
   "mimetype": "text/x-python",
   "name": "python",
   "nbconvert_exporter": "python",
   "pygments_lexer": "ipython3",
   "version": "3.9.16"
  },
  "orig_nbformat": 4
 },
 "nbformat": 4,
 "nbformat_minor": 2
}
