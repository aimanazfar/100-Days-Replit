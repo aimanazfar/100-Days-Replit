{
 "cells": [
  {
   "cell_type": "code",
   "execution_count": 5,
   "metadata": {},
   "outputs": [
    {
     "name": "stdout",
     "output_type": "stream",
     "text": [
      "You rolled 5\n",
      "You rolled 3\n",
      "You rolled 1\n",
      "You rolled 2\n",
      "You rolled 2\n",
      "You rolled 1\n",
      "You rolled 6\n",
      "You rolled 4\n",
      "You rolled 4\n",
      "You rolled 4\n"
     ]
    }
   ],
   "source": [
    "def rollDice():\n",
    "  import random\n",
    "  dice = random.randint(1, 6)\n",
    "  print(\"You rolled\", dice)\n",
    "\n",
    "for i in range(1,100,10):\n",
    "    rollDice()"
   ]
  },
  {
   "cell_type": "code",
   "execution_count": 10,
   "metadata": {},
   "outputs": [
    {
     "name": "stdout",
     "output_type": "stream",
     "text": [
      "Username and Password\n",
      "Yeay\n"
     ]
    }
   ],
   "source": [
    "print(\"Username and Password\")\n",
    "\n",
    "username = \"Aiman\"\n",
    "password = \"Azfar\"\n",
    "\n",
    "def secureLogin():\n",
    "    \n",
    "    name = input(\"What is the username?\")\n",
    "    passw = input(\"What is the password?\")\n",
    "\n",
    "    if name == username and passw == password:\n",
    "        print(\"Yeay\")\n",
    "        exit\n",
    "    else:\n",
    "        secureLogin()\n",
    "\n",
    "secureLogin()"
   ]
  },
  {
   "cell_type": "code",
   "execution_count": 11,
   "metadata": {},
   "outputs": [
    {
     "name": "stdout",
     "output_type": "stream",
     "text": [
      "Username and Password\n",
      "Yeay\n"
     ]
    },
    {
     "ename": "",
     "evalue": "",
     "output_type": "error",
     "traceback": [
      "\u001b[1;31mThe Kernel crashed while executing code in the the current cell or a previous cell. Please review the code in the cell(s) to identify a possible cause of the failure. Click <a href='https://aka.ms/vscodeJupyterKernelCrash'>here</a> for more info. View Jupyter <a href='command:jupyter.viewOutput'>log</a> for further details."
     ]
    }
   ],
   "source": [
    "print(\"Username and Password\")\n",
    "\n",
    "username = \"Aiman\"\n",
    "password = \"Azfar\"\n",
    "\n",
    "def secureLogin():\n",
    "    while True:\n",
    "        name = input(\"What is the username?\")\n",
    "        passw = input(\"What is the password?\")\n",
    "\n",
    "        if name == username and passw == password:\n",
    "            print(\"Yeay\")\n",
    "            break\n",
    "        else:\n",
    "            continue\n",
    "\n",
    "secureLogin()"
   ]
  }
 ],
 "metadata": {
  "kernelspec": {
   "display_name": "test",
   "language": "python",
   "name": "python3"
  },
  "language_info": {
   "codemirror_mode": {
    "name": "ipython",
    "version": 3
   },
   "file_extension": ".py",
   "mimetype": "text/x-python",
   "name": "python",
   "nbconvert_exporter": "python",
   "pygments_lexer": "ipython3",
   "version": "3.9.16"
  },
  "orig_nbformat": 4
 },
 "nbformat": 4,
 "nbformat_minor": 2
}
