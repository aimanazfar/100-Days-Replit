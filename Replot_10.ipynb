{
 "cells": [
  {
   "cell_type": "code",
   "execution_count": 2,
   "metadata": {},
   "outputs": [
    {
     "name": "stdout",
     "output_type": "stream",
     "text": [
      "7\n",
      "-1\n",
      "128\n",
      "10.0\n",
      "25\n",
      "3\n",
      "3\n"
     ]
    }
   ],
   "source": [
    "adding = 4 + 3\n",
    "print(adding)\n",
    "\n",
    "subtraction = 8 - 9\n",
    "print(subtraction)\n",
    "\n",
    "multiplication = 4 * 32\n",
    "print(multiplication)\n",
    "\n",
    "division = 50 / 5\n",
    "print(division)\n",
    "\n",
    "# a number raised to the power of some number\n",
    "# in this example we raise 5 to the power of 2\n",
    "squared = 5**2\n",
    "print(squared)\n",
    "\n",
    "# remainder of a division\n",
    "modulo = 15 % 4\n",
    "print(modulo)\n",
    "\n",
    "# whole number division\n",
    "divisor = 15 // 4\n",
    "print(divisor)"
   ]
  },
  {
   "cell_type": "code",
   "execution_count": 2,
   "metadata": {},
   "outputs": [
    {
     "name": "stdout",
     "output_type": "stream",
     "text": [
      "Tip Calculator\n",
      "You each owe 24.62\n"
     ]
    }
   ],
   "source": [
    "print(\"Tip Calculator\")\n",
    "\n",
    "totalSpend = float(input(\"How Much did you spend?\"))\n",
    "tipPercentage = float(input(\"What percentage do you want to tip?\"))/100\n",
    "totalParty = int(input(\"How many people in your party?\"))\n",
    "\n",
    "totalTip = totalSpend + tipPercentage\n",
    "totalTipPerson = round(totalTip/totalParty,2)\n",
    "\n",
    "print(\"You each owe\", totalTipPerson)"
   ]
  }
 ],
 "metadata": {
  "kernelspec": {
   "display_name": "test",
   "language": "python",
   "name": "python3"
  },
  "language_info": {
   "codemirror_mode": {
    "name": "ipython",
    "version": 3
   },
   "file_extension": ".py",
   "mimetype": "text/x-python",
   "name": "python",
   "nbconvert_exporter": "python",
   "pygments_lexer": "ipython3",
   "version": "3.9.16"
  },
  "orig_nbformat": 4
 },
 "nbformat": 4,
 "nbformat_minor": 2
}
