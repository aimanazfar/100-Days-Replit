{
 "cells": [
  {
   "cell_type": "code",
   "execution_count": 9,
   "metadata": {},
   "outputs": [
    {
     "name": "stdout",
     "output_type": "stream",
     "text": [
      "        \u001b[31m=\u001b[0m=\u001b[34m= \u001b[33mMusic App \u001b[34m=\u001b[0m=\u001b[31m=\n",
      "🔥\t▶️\u001b[0mRadio Gaga\n",
      "\t\u001b[33mQueen\n",
      "\u001b[0mprev                               \n",
      "\u001b[32m                               next\n",
      "\u001b[35m                              pause\n",
      "\n",
      "\n",
      "\u001b[0m            WELCOME TO             \n",
      "\u001b[34m          --  ARMBOOK  --          \n",
      "\u001b[33m           Definitely not a rip off\n",
      "\u001b[33m             a certain other social\n",
      "\u001b[33m                    networking site\n",
      "\u001b[31m              Honest.              \n"
     ]
    }
   ],
   "source": [
    "def colorChange(color):\n",
    "  if color==\"red\":\n",
    "    return (\"\\033[31m\")\n",
    "  elif color==\"white\":\n",
    "    return (\"\\033[0m\")\n",
    "  elif color==\"blue\":\n",
    "    return (\"\\033[34m\")\n",
    "  elif color==\"yellow\":\n",
    "    return (\"\\033[33m\")\n",
    "  elif color == \"green\":\n",
    "    return (\"\\033[32m\")\n",
    "  elif color == \"purple\":\n",
    "    return (\"\\033[35m\")\n",
    "\n",
    "title = f\"{colorChange('red')}={colorChange('white')}={colorChange('blue')}= {colorChange('yellow')}Music App {colorChange('blue')}={colorChange('white')}={colorChange('red')}=\"\n",
    "\n",
    "print(f\"        {title: ^35}\")\n",
    "print(f\"🔥\\t▶️{colorChange('white')}Radio Gaga\")\n",
    "print(f\"\\t{colorChange('yellow')}Queen\")\n",
    "\n",
    "prev = \"prev\"\n",
    "next = \"next\"\n",
    "pause = \"pause\"\n",
    "\n",
    "print(f\"{colorChange('white')}{prev:<35}\")\n",
    "print(f\"{colorChange('green')}{next:>35}\")\n",
    "print(f\"{colorChange('purple')}{pause:>35}\")\n",
    "\n",
    "\n",
    "print()\n",
    "print()\n",
    "text = \"WELCOME TO\"\n",
    "print(f\"{colorChange('white')}{text:^35}\")\n",
    "text = \"--  ARMBOOK  --\"\n",
    "print(f\"{colorChange('blue')}{text:^35}\")\n",
    "text = \"Definitely not a rip off\"\n",
    "print(f\"{colorChange('yellow')}{text:>35}\")\n",
    "text = \"a certain other social\"\n",
    "print(f\"{colorChange('yellow')}{text:>35}\")\n",
    "text = \"networking site\"\n",
    "print(f\"{colorChange('yellow')}{text:>35}\")\n",
    "text = \"Honest.\"\n",
    "print(f\"{colorChange('red')}{text:^35}\")\n",
    "text = \"Username: \"\n",
    "username = input(f\"{colorChange('white')}{text:^35}\")\n",
    "text = \"Password: \"\n",
    "username = input(f\"{colorChange('white')}{text:^35}\")"
   ]
  }
 ],
 "metadata": {
  "kernelspec": {
   "display_name": "test",
   "language": "python",
   "name": "python3"
  },
  "language_info": {
   "codemirror_mode": {
    "name": "ipython",
    "version": 3
   },
   "file_extension": ".py",
   "mimetype": "text/x-python",
   "name": "python",
   "nbconvert_exporter": "python",
   "pygments_lexer": "ipython3",
   "version": "3.9.16"
  },
  "orig_nbformat": 4
 },
 "nbformat": 4,
 "nbformat_minor": 2
}
