{
 "cells": [
  {
   "cell_type": "code",
   "execution_count": 5,
   "metadata": {},
   "outputs": [
    {
     "name": "stdout",
     "output_type": "stream",
     "text": [
      "Table to multiply by 12\n",
      "1 x 7 = 7\n",
      "3 x 7 = 21\n",
      "5 x 7 = 35\n",
      "7 x 7 = 49\n",
      "9 x 7 = 63\n",
      "11 x 7 = 77\n"
     ]
    }
   ],
   "source": [
    "print(\"Table to multiply by 12\")\n",
    "for i in range(1,13,2):\n",
    "    print(i,\"x 7 =\",i*7)"
   ]
  },
  {
   "cell_type": "code",
   "execution_count": 13,
   "metadata": {},
   "outputs": [],
   "source": [
    "for i in range (20, 40, -1):\n",
    "  print(i)"
   ]
  },
  {
   "cell_type": "code",
   "execution_count": 17,
   "metadata": {},
   "outputs": [
    {
     "name": "stdout",
     "output_type": "stream",
     "text": [
      "Generate your own range\n",
      "Your number is 10\n",
      "Your number is 30\n",
      "Your number is 50\n",
      "Your number is 70\n",
      "Your number is 90\n",
      "Your number is 110\n",
      "Your number is 130\n",
      "Your number is 150\n",
      "Your number is 170\n",
      "Your number is 190\n",
      "Your number is 210\n",
      "Your number is 230\n",
      "Your number is 250\n",
      "Your number is 270\n",
      "Your number is 290\n",
      "Your number is 310\n",
      "Your number is 330\n",
      "Your number is 350\n",
      "Your number is 370\n",
      "Your number is 390\n"
     ]
    }
   ],
   "source": [
    "print(\"Generate your own range\")\n",
    "start = int(input(\"Start at = \"))\n",
    "end = int(input(\"End at = \"))\n",
    "increment = int(input(\"Increament by = \"))\n",
    "\n",
    "for i in range (start, end, increment):\n",
    "    print(\"Your number is\",i)"
   ]
  },
  {
   "cell_type": "code",
   "execution_count": 8,
   "metadata": {},
   "outputs": [
    {
     "name": "stdout",
     "output_type": "stream",
     "text": [
      "Table to multiply by 12\n",
      "10 x 7 = 70\n",
      "8 x 7 = 56\n",
      "6 x 7 = 42\n",
      "4 x 7 = 28\n",
      "2 x 7 = 14\n",
      "0 x 7 = 0\n"
     ]
    }
   ],
   "source": [
    "print(\"Table to multiply by 12\")\n",
    "for i in range(10,-1,-2):\n",
    "    print(i,\"x 7 =\",i*7)"
   ]
  }
 ],
 "metadata": {
  "kernelspec": {
   "display_name": "test",
   "language": "python",
   "name": "python3"
  },
  "language_info": {
   "codemirror_mode": {
    "name": "ipython",
    "version": 3
   },
   "file_extension": ".py",
   "mimetype": "text/x-python",
   "name": "python",
   "nbconvert_exporter": "python",
   "pygments_lexer": "ipython3",
   "version": "3.9.16"
  },
  "orig_nbformat": 4
 },
 "nbformat": 4,
 "nbformat_minor": 2
}
