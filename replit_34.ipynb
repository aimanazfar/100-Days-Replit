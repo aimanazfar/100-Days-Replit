{
 "cells": [
  {
   "cell_type": "code",
   "execution_count": 12,
   "metadata": {},
   "outputs": [
    {
     "name": "stdout",
     "output_type": "stream",
     "text": [
      "SPAMMER Inc.\n",
      "SPAMMER Inc.\n",
      "SPAMMER Inc.\n",
      "SPAMMER Inc.\n",
      "SPAMMER Inc.\n",
      "SPAMMER Inc.\n",
      "SPAMMER Inc.\n",
      "Dear a, Please stop\n",
      "Dear b, Please stop\n",
      "Dear c, Please stop\n",
      "Done spamming!\n"
     ]
    }
   ],
   "source": [
    "import os, time\n",
    "listOfEmail = []\n",
    "\n",
    "def printFancy():\n",
    "  os.system(\"clear\")\n",
    "  counter = 1\n",
    "  print(\"List of Emails\")\n",
    "  print()\n",
    "  for index in range(len(listOfEmail)):\n",
    "    print(f\"{index}\")\n",
    "    print(f\"{counter}: {index}\")\n",
    "    counter += 1\n",
    "    time.sleep(1)\n",
    "\n",
    "def getSpamming():\n",
    "  os.system(\"clear\")\n",
    "  counter = 1\n",
    "  index = 0\n",
    "  while counter <= 3:\n",
    "    print(f\"Dear {listOfEmail[index]}, Please stop\")\n",
    "    time.sleep(1)\n",
    "    counter += 1\n",
    "    index += 1\n",
    "    os.system(\"clear\")\n",
    "\n",
    "def getSpammingMax(Max):\n",
    "  for i in range(0, Max):\n",
    "    print(f\"Dear {listOfEmail[i]}, Please stop\")\n",
    "    time.sleep(1)\n",
    "    os.system(\"clear\")\n",
    "\n",
    "\n",
    "while True:\n",
    "  print(\"SPAMMER Inc.\")\n",
    "  menu = input(\"1. Add email\\n2: Remove email\\n3. Show emails\\n4. Get SPAMMING\\n> \")\n",
    "  if menu == \"1\":\n",
    "    email = input(\"Email > \")\n",
    "    listOfEmail.append(email)\n",
    "  elif menu == \"2\":\n",
    "    email = input (\"Email > \")\n",
    "    if email in listOfEmail:\n",
    "      listOfEmail.remove(email)\n",
    "  elif menu == \"3\":\n",
    "    printFancy()\n",
    "  \n",
    "  elif menu == \"4\":\n",
    "    getSpamming()\n",
    "    print(\"Done spamming!\")\n",
    "    os.system(\"clear\")\n",
    "\n",
    "    break"
   ]
  }
 ],
 "metadata": {
  "kernelspec": {
   "display_name": "test",
   "language": "python",
   "name": "python3"
  },
  "language_info": {
   "codemirror_mode": {
    "name": "ipython",
    "version": 3
   },
   "file_extension": ".py",
   "mimetype": "text/x-python",
   "name": "python",
   "nbconvert_exporter": "python",
   "pygments_lexer": "ipython3",
   "version": "3.9.16"
  },
  "orig_nbformat": 4
 },
 "nbformat": 4,
 "nbformat_minor": 2
}
