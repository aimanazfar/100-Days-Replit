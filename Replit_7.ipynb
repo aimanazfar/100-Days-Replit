{
 "cells": [
  {
   "cell_type": "code",
   "execution_count": 5,
   "metadata": {},
   "outputs": [
    {
     "name": "stdout",
     "output_type": "stream",
     "text": [
      "Damn right!\n"
     ]
    }
   ],
   "source": [
    "tvShow = input(\"What Tv Show do you like?\")\n",
    "if tvShow == \"Dune\":\n",
    "    print(\"Damn right!\")\n",
    "    faveCharacter = input(\"Who is your favorite character?\")\n",
    "    if faveCharacter == \"Paul\":\n",
    "        print(\"of course!\")\n",
    "elif tcShow = \"Star Wars\"\n",
    "    print()\n",
    "else:\n",
    "    print(\"Come on..\")"
   ]
  },
  {
   "cell_type": "code",
   "execution_count": 11,
   "metadata": {},
   "outputs": [
    {
     "name": "stdout",
     "output_type": "stream",
     "text": [
      "Fake Fan Finder 😈\n",
      "..........\n",
      "Almost got me.. fake!\n"
     ]
    }
   ],
   "source": [
    "print(\"Fake Fan Finder 😈\")\n",
    "print(\"..........\")\n",
    "favBook = input(\"Is Hyperion your favorite book\")\n",
    "if favBook == \"Yes\":\n",
    "    nameVillain = input(\"Oh really? What's the villain's naame\")\n",
    "    if nameVillain == \"The Shrike\":\n",
    "        firstGuy = input(\"Who is the first guy?\")\n",
    "        if firstGuy == \"The Council\":\n",
    "            print(\"Not bad\")\n",
    "        else:\n",
    "            print(\"Almost got me.. fake!\")\n",
    "    else:\n",
    "        print(\"Fake\")\n",
    "else:\n",
    "    print(\"Stop!\")"
   ]
  }
 ],
 "metadata": {
  "kernelspec": {
   "display_name": "test",
   "language": "python",
   "name": "python3"
  },
  "language_info": {
   "codemirror_mode": {
    "name": "ipython",
    "version": 3
   },
   "file_extension": ".py",
   "mimetype": "text/x-python",
   "name": "python",
   "nbconvert_exporter": "python",
   "pygments_lexer": "ipython3",
   "version": "3.9.16"
  },
  "orig_nbformat": 4
 },
 "nbformat": 4,
 "nbformat_minor": 2
}
