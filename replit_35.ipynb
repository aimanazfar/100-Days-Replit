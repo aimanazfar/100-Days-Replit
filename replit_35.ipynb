{
 "cells": [
  {
   "cell_type": "code",
   "execution_count": 4,
   "metadata": {},
   "outputs": [
    {
     "name": "stdout",
     "output_type": "stream",
     "text": [
      "Program Ends\n"
     ]
    }
   ],
   "source": [
    "from IPython.display import clear_output\n",
    "import time\n",
    "myTodo = []\n",
    "\n",
    "def printview():\n",
    "    for item in myTodo:\n",
    "        print(item)\n",
    "\n",
    "\n",
    "print(\"To Do List Manager\")\n",
    "\n",
    "while True:\n",
    "    action = input(\"Do you want to view, add, edit or delete your to do list?\")\n",
    "\n",
    "    if action == \"view\":\n",
    "        clear_output(wait=True)\n",
    "        printview()\n",
    "\n",
    "    elif action == \"add\":\n",
    "        item = input(\"add to do >\")\n",
    "\n",
    "        if item in myTodo:\n",
    "            print(\"Oops it's a duplicate\")\n",
    "        else:\n",
    "            myTodo.append(item)\n",
    "        clear_output(wait=True)\n",
    "        \n",
    "        continue\n",
    "\n",
    "    elif action == \"edit\":\n",
    "        editaction = input(\"Do you want to remove or edit an item?\")\n",
    "        printview()\n",
    "\n",
    "        if editaction == \"remove\":\n",
    "            item = input(\"item to remove >\")\n",
    "            myTodo.remove(item)\n",
    "            printview()\n",
    "        elif editaction == \"edit\":\n",
    "            printview()\n",
    "            item = input(\"item to edit >\")\n",
    "            itemtoedit = input(\"edit as >\")\n",
    "            myTodo.remove(item)\n",
    "            myTodo.append(itemtoedit)\n",
    "        clear_output(wait=True)\n",
    "\n",
    "        continue\n",
    "\n",
    "    elif action == \"delete\":\n",
    "        myTodo.clear()\n",
    "\n",
    "    else:\n",
    "        break\n",
    "\n",
    "printview()\n",
    "print(\"Program Ends\")"
   ]
  },
  {
   "cell_type": "code",
   "execution_count": 4,
   "metadata": {},
   "outputs": [
    {
     "name": "stdout",
     "output_type": "stream",
     "text": [
      "\n",
      "Makan\n",
      "Minum\n",
      "\n"
     ]
    }
   ],
   "source": [
    "import os, time\n",
    "toDoList = []\n",
    "\n",
    "def printList():\n",
    "  print()\n",
    "  for items in toDoList:\n",
    "    print(items)\n",
    "  print()\n",
    "\n",
    "while True:\n",
    "  menu = input(\"ToDo List Manager\\nDo you want to view, add, edit, remove or delete the todo list?\\n\")\n",
    "  if menu==\"view\":\n",
    "    printList()\n",
    "  elif menu==\"add\":\n",
    "    item = input(\"What do you want to add?\\n\").title()\n",
    "    toDoList.append(item)\n",
    "  elif menu==\"remove\":\n",
    "    item = input(\"What do you want to remove?\\n\").title()\n",
    "    check = input(\"Are you sure you want to remove this?\\n\")\n",
    "    if check[0]==\"y\":\n",
    "      if item in toDoList:\n",
    "        toDoList.remove(item)\n",
    "  elif menu==\"edit\":\n",
    "    item = input(\"What do you want to edit?\\n\").title()\n",
    "    new = input(\"What do you want to change it to?\\n\").title()\n",
    "    for i in range(0,len(toDoList)):\n",
    "      if toDoList[i]==item:\n",
    "        toDoList[i]=new\n",
    "  elif menu==\"delete\":\n",
    "    toDoList = []\n",
    "  time.sleep(1)\n",
    "  os.system('clear')"
   ]
  }
 ],
 "metadata": {
  "kernelspec": {
   "display_name": "test",
   "language": "python",
   "name": "python3"
  },
  "language_info": {
   "codemirror_mode": {
    "name": "ipython",
    "version": 3
   },
   "file_extension": ".py",
   "mimetype": "text/x-python",
   "name": "python",
   "nbconvert_exporter": "python",
   "pygments_lexer": "ipython3",
   "version": "3.9.16"
  },
  "orig_nbformat": 4
 },
 "nbformat": 4,
 "nbformat_minor": 2
}
