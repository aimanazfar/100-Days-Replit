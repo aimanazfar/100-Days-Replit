{
 "cells": [
  {
   "cell_type": "code",
   "execution_count": 8,
   "metadata": {},
   "outputs": [
    {
     "name": "stdout",
     "output_type": "stream",
     "text": [
      "\n",
      "makan\n",
      "\n",
      "\n",
      "makan\n",
      "nasi\n",
      "\n",
      "\n",
      "makan\n",
      "\n",
      "\n",
      "makan\n",
      "\n"
     ]
    },
    {
     "ename": "ValueError",
     "evalue": "list.remove(x): x not in list",
     "output_type": "error",
     "traceback": [
      "\u001b[1;31m---------------------------------------------------------------------------\u001b[0m",
      "\u001b[1;31mValueError\u001b[0m                                Traceback (most recent call last)",
      "Cell \u001b[1;32mIn[8], line 16\u001b[0m\n\u001b[0;32m     14\u001b[0m \u001b[39melif\u001b[39;00m menu \u001b[39m==\u001b[39m \u001b[39m\"\u001b[39m\u001b[39mremove\u001b[39m\u001b[39m\"\u001b[39m:\n\u001b[0;32m     15\u001b[0m   item \u001b[39m=\u001b[39m \u001b[39minput\u001b[39m(\u001b[39m\"\u001b[39m\u001b[39mWhat do you want to remove?: \u001b[39m\u001b[39m\"\u001b[39m)\n\u001b[1;32m---> 16\u001b[0m   myAgenda\u001b[39m.\u001b[39;49mremove(item)\n\u001b[0;32m     17\u001b[0m printList()\n",
      "\u001b[1;31mValueError\u001b[0m: list.remove(x): x not in list"
     ]
    }
   ],
   "source": [
    "myAgenda = []\n",
    "\n",
    "def printList():\n",
    "  print() \n",
    "  for item in myAgenda:\n",
    "    print(item)\n",
    "  print() \n",
    "\n",
    "while True:\n",
    "  menu = input(\"add or remove?: \")\n",
    "  if menu == \"add\":\n",
    "    item = input(\"What's next on the Agenda?: \")\n",
    "    myAgenda.append(item)\n",
    "  elif menu == \"remove\":\n",
    "    item = input(\"What do you want to remove?: \")\n",
    "    myAgenda.remove(item)\n",
    "  printList()"
   ]
  },
  {
   "cell_type": "code",
   "execution_count": null,
   "metadata": {},
   "outputs": [],
   "source": [
    "myAgenda = []\n",
    "\n",
    "def printList():\n",
    "  print() \n",
    "  for item in myAgenda:\n",
    "    print(item)\n",
    "  print() \n",
    "\n",
    "while True:\n",
    "  menu = input(\"Add or Remove?: \")\n",
    "  if menu == \"add\":\n",
    "    item = input(\"What's next on the Agenda?: \")\n",
    "    myAgenda.append(item)\n",
    "  elif menu == \"remove\":\n",
    "    item = (\"What do you want to remove?: \")\n",
    "    if item in myAgenda:\n",
    "      item.remove(myAgenda)\n",
    "    else:\n",
    "      print(f\"{item} was not in the list\")\n",
    "  printList()"
   ]
  },
  {
   "cell_type": "code",
   "execution_count": null,
   "metadata": {},
   "outputs": [],
   "source": [
    "myPartyList = []\n",
    "\n",
    "def printList():\n",
    "  print() \n",
    "  for item in myPartyList:\n",
    "    print(item)\n",
    "  print() \n",
    "\n",
    "while True:\n",
    "  menu = input(\"add or remove?: \")\n",
    "  if menu == \"add\":\n",
    "    item = input(\"Who should I add to the party list?: \")\n",
    "    myPartyList.append(item)\n",
    "  elif menu == \"remove\":\n",
    "    item = input(\"Who should I remove from the party list?: \")\n",
    "    if item in myPartyList:\n",
    "      myPartyList.remove(item)\n",
    "    else:\n",
    "      print(f\"{item} was not in the list\")\n",
    "  printList()"
   ]
  },
  {
   "cell_type": "code",
   "execution_count": 5,
   "metadata": {},
   "outputs": [
    {
     "name": "stdout",
     "output_type": "stream",
     "text": [
      "Makan\n",
      "minum\n",
      "Program Ends\n"
     ]
    }
   ],
   "source": [
    "from IPython.display import clear_output\n",
    "myTodo = []\n",
    "\n",
    "def printview():\n",
    "    for item in myTodo:\n",
    "        print(item)\n",
    "\n",
    "def addview(item):\n",
    "    myTodo.append(item)\n",
    "\n",
    "\n",
    "print(\"To Do List Manager\")\n",
    "\n",
    "while True:\n",
    "    action = input(\"Do you want to view, add, or edit your to do list?\")\n",
    "    if action == \"view\":\n",
    "        printview()\n",
    "        clear_output(wait=True)\n",
    "    elif action == \"add\":\n",
    "        item = input(\"add to do >\")\n",
    "        addview(item)\n",
    "        clear_output(wait=True)\n",
    "\n",
    "        continue\n",
    "    elif action == \"edit\":\n",
    "        print(\"Which item do you want to remove?\")\n",
    "        printview()\n",
    "        item = input(\"item to remove >\")\n",
    "        myTodo.remove(item)\n",
    "        clear_output(wait=True)\n",
    "\n",
    "        continue\n",
    "    else:\n",
    "        break\n",
    "\n",
    "printview()\n",
    "print(\"Program Ends\")\n",
    "\n",
    "\n",
    "\n",
    "        "
   ]
  }
 ],
 "metadata": {
  "kernelspec": {
   "display_name": "test",
   "language": "python",
   "name": "python3"
  },
  "language_info": {
   "codemirror_mode": {
    "name": "ipython",
    "version": 3
   },
   "file_extension": ".py",
   "mimetype": "text/x-python",
   "name": "python",
   "nbconvert_exporter": "python",
   "pygments_lexer": "ipython3",
   "version": "3.9.16"
  },
  "orig_nbformat": 4
 },
 "nbformat": 4,
 "nbformat_minor": 2
}
