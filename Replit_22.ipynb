{
 "cells": [
  {
   "cell_type": "code",
   "execution_count": 7,
   "metadata": {},
   "outputs": [
    {
     "name": "stdout",
     "output_type": "stream",
     "text": [
      "29\n"
     ]
    }
   ],
   "source": [
    "import random\n",
    "myNumber = random.randint(1,200)\n",
    "print(myNumber)"
   ]
  },
  {
   "cell_type": "code",
   "execution_count": 9,
   "metadata": {},
   "outputs": [
    {
     "name": "stdout",
     "output_type": "stream",
     "text": [
      "59\n",
      "88\n",
      "97\n",
      "53\n",
      "82\n",
      "2\n",
      "71\n",
      "52\n",
      "75\n",
      "4\n"
     ]
    }
   ],
   "source": [
    "import random\n",
    "\n",
    "for i in range(10):\n",
    "  myNumber = random.randint(1, 100)\n",
    "  print(myNumber)"
   ]
  },
  {
   "cell_type": "code",
   "execution_count": 11,
   "metadata": {},
   "outputs": [
    {
     "name": "stdout",
     "output_type": "stream",
     "text": [
      "8\n",
      "7\n",
      "6\n",
      "7\n",
      "1\n",
      "8\n",
      "4\n",
      "2\n",
      "4\n",
      "1\n"
     ]
    }
   ],
   "source": [
    "import random\n",
    "\n",
    "myNumber = random.randint(1, 10)\n",
    "for i in range(10):\n",
    "  myNumber = random.randint(1, 10)\n",
    "  print(myNumber)"
   ]
  },
  {
   "cell_type": "code",
   "execution_count": 14,
   "metadata": {},
   "outputs": [
    {
     "name": "stdout",
     "output_type": "stream",
     "text": [
      "Guess the number\n",
      "Too high..\n",
      "Too high..\n",
      "Too low\n"
     ]
    },
    {
     "ename": "ValueError",
     "evalue": "invalid literal for int() with base 10: 'makan'",
     "output_type": "error",
     "traceback": [
      "\u001b[1;31m---------------------------------------------------------------------------\u001b[0m",
      "\u001b[1;31mValueError\u001b[0m                                Traceback (most recent call last)",
      "Cell \u001b[1;32mIn[14], line 8\u001b[0m\n\u001b[0;32m      5\u001b[0m numberOfGuess \u001b[39m=\u001b[39m \u001b[39m1\u001b[39m\n\u001b[0;32m      7\u001b[0m \u001b[39mwhile\u001b[39;00m \u001b[39mTrue\u001b[39;00m :\n\u001b[1;32m----> 8\u001b[0m     userInput \u001b[39m=\u001b[39m \u001b[39mint\u001b[39;49m(\u001b[39minput\u001b[39;49m(\u001b[39m\"\u001b[39;49m\u001b[39mWhat is your guess?: \u001b[39;49m\u001b[39m\"\u001b[39;49m))\n\u001b[0;32m     10\u001b[0m     \u001b[39mif\u001b[39;00m userInput \u001b[39m>\u001b[39m secretNumber :\n\u001b[0;32m     11\u001b[0m         \u001b[39mprint\u001b[39m(\u001b[39m\"\u001b[39m\u001b[39mToo high..\u001b[39m\u001b[39m\"\u001b[39m)\n",
      "\u001b[1;31mValueError\u001b[0m: invalid literal for int() with base 10: 'makan'"
     ]
    },
    {
     "ename": "",
     "evalue": "",
     "output_type": "error",
     "traceback": [
      "\u001b[1;31mThe Kernel crashed while executing code in the the current cell or a previous cell. Please review the code in the cell(s) to identify a possible cause of the failure. Click <a href='https://aka.ms/vscodeJupyterKernelCrash'>here</a> for more info. View Jupyter <a href='command:jupyter.viewOutput'>log</a> for further details."
     ]
    }
   ],
   "source": [
    "import random\n",
    "print(\"Guess the number\")\n",
    "\n",
    "secretNumber = random.randrange(1,100)\n",
    "numberOfGuess = 1\n",
    "\n",
    "while True :\n",
    "    userInput = int(input(\"What is your guess?: \"))\n",
    "\n",
    "    if userInput > secretNumber :\n",
    "        print(\"Too high..\")\n",
    "        continue\n",
    "    elif userInput < secretNumber :\n",
    "        print(\"Too low\")\n",
    "        continue\n",
    "    elif userInput == secretNumber :\n",
    "        print(\"You've won!\")\n",
    "        break\n",
    "print(\"Game is over\")"
   ]
  }
 ],
 "metadata": {
  "kernelspec": {
   "display_name": "test",
   "language": "python",
   "name": "python3"
  },
  "language_info": {
   "codemirror_mode": {
    "name": "ipython",
    "version": 3
   },
   "file_extension": ".py",
   "mimetype": "text/x-python",
   "name": "python",
   "nbconvert_exporter": "python",
   "pygments_lexer": "ipython3",
   "version": "3.9.16"
  },
  "orig_nbformat": 4
 },
 "nbformat": 4,
 "nbformat_minor": 2
}
