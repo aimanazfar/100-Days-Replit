{
 "cells": [
  {
   "cell_type": "code",
   "execution_count": 22,
   "metadata": {},
   "outputs": [
    {
     "name": "stdout",
     "output_type": "stream",
     "text": [
      "9\n"
     ]
    }
   ],
   "source": [
    "from IPython.display import clear_output\n",
    "import os, time\n",
    "\n",
    "for i in range (1,10):\n",
    "    print(i)\n",
    "    time.sleep(2)\n",
    "    clear_output(wait=True)"
   ]
  },
  {
   "cell_type": "code",
   "execution_count": 23,
   "metadata": {},
   "outputs": [
    {
     "ename": "ModuleNotFoundError",
     "evalue": "No module named 'replit'",
     "output_type": "error",
     "traceback": [
      "\u001b[1;31m---------------------------------------------------------------------------\u001b[0m",
      "\u001b[1;31mModuleNotFoundError\u001b[0m                       Traceback (most recent call last)",
      "Cell \u001b[1;32mIn[23], line 1\u001b[0m\n\u001b[1;32m----> 1\u001b[0m \u001b[39mfrom\u001b[39;00m \u001b[39mreplit\u001b[39;00m \u001b[39mimport\u001b[39;00m audio\n\u001b[0;32m      2\u001b[0m \u001b[39mimport\u001b[39;00m \u001b[39mos\u001b[39;00m\u001b[39m,\u001b[39m \u001b[39mtime\u001b[39;00m\n\u001b[0;32m      4\u001b[0m \u001b[39mdef\u001b[39;00m \u001b[39mplay\u001b[39m():\n",
      "\u001b[1;31mModuleNotFoundError\u001b[0m: No module named 'replit'"
     ]
    },
    {
     "ename": "",
     "evalue": "",
     "output_type": "error",
     "traceback": [
      "\u001b[1;31mThe Kernel crashed while executing code in the the current cell or a previous cell. Please review the code in the cell(s) to identify a possible cause of the failure. Click <a href='https://aka.ms/vscodeJupyterKernelCrash'>here</a> for more info. View Jupyter <a href='command:jupyter.viewOutput'>log</a> for further details."
     ]
    }
   ],
   "source": [
    "from replit import audio\n",
    "import os, time\n",
    "\n",
    "def play():\n",
    "  source = audio.play_file('audio.wav')\n",
    "  source.paused = False # unpause the playback\n",
    "  while True:\n",
    "    stop_playback = int(input(\"Press 2 anytime to stop playback and go back to the menu : \")) # giving the user the option to stop playback\n",
    "    if stop_playback == 2:\n",
    "      source.paused = True # let's pause the file \n",
    "      return # let's go back from this play() subroutine\n",
    "    else: \n",
    "      continue\n",
    "  \n",
    "while True:\n",
    "  os.system(\"clear\")\n",
    "  print(\"🎵 MyPOD Music Player \")\n",
    "  time.sleep(1)\n",
    "  print(\"Press 1 to Play\")\n",
    "  time.sleep(1)\n",
    "  print(\"Press 2 to Exit\")\n",
    "  time.sleep(1)\n",
    "  print(\"Press anything else to see the menu again\")\n",
    "  userInput = int(input())\n",
    "  if userInput == 1:\n",
    "    print(\"Playing some proper tunes!\")\n",
    "    play()\n",
    "  elif userInput == 2:\n",
    "    exit()\n",
    "  else :\n",
    "    continue"
   ]
  }
 ],
 "metadata": {
  "kernelspec": {
   "display_name": "test",
   "language": "python",
   "name": "python3"
  },
  "language_info": {
   "codemirror_mode": {
    "name": "ipython",
    "version": 3
   },
   "file_extension": ".py",
   "mimetype": "text/x-python",
   "name": "python",
   "nbconvert_exporter": "python",
   "pygments_lexer": "ipython3",
   "version": "3.9.16"
  },
  "orig_nbformat": 4
 },
 "nbformat": 4,
 "nbformat_minor": 2
}
