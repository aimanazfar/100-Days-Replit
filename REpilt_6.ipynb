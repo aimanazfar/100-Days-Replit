{
 "cells": [
  {
   "cell_type": "code",
   "execution_count": 4,
   "metadata": {},
   "outputs": [
    {
     "name": "stdout",
     "output_type": "stream",
     "text": [
      "My Login System\n",
      "+++++++++++++\n",
      "Welcome Aiman, here is your todo list\n"
     ]
    }
   ],
   "source": [
    "print(\"My Login System\")\n",
    "print(\"+++++++++++++\")\n",
    "username = input(\"Please enter your name\")\n",
    "password = input(\"Please put your password\")\n",
    "if username == \"David\" and password == \"Makan\":\n",
    "    print(\"Welcome David, here is your to do list\")\n",
    "elif username ==\"Aiman\" and password == \"Nasi\":\n",
    "    print(\"Welcome Aiman, here is your todo list\")\n",
    "else:\n",
    "    print(\"Incorrect username and password\")\n",
    "\n",
    "    "
   ]
  },
  {
   "cell_type": "code",
   "execution_count": null,
   "metadata": {},
   "outputs": [],
   "source": []
  }
 ],
 "metadata": {
  "kernelspec": {
   "display_name": "test",
   "language": "python",
   "name": "python3"
  },
  "language_info": {
   "codemirror_mode": {
    "name": "ipython",
    "version": 3
   },
   "file_extension": ".py",
   "mimetype": "text/x-python",
   "name": "python",
   "nbconvert_exporter": "python",
   "pygments_lexer": "ipython3",
   "version": "3.9.16"
  },
  "orig_nbformat": 4
 },
 "nbformat": 4,
 "nbformat_minor": 2
}
