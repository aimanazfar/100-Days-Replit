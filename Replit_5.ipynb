{
 "cells": [
  {
   "cell_type": "code",
   "execution_count": 3,
   "metadata": {},
   "outputs": [
    {
     "name": "stdout",
     "output_type": "stream",
     "text": [
      "Jom Makan\n"
     ]
    }
   ],
   "source": [
    "print(\"Jom Makan\")"
   ]
  },
  {
   "cell_type": "code",
   "execution_count": 6,
   "metadata": {},
   "outputs": [
    {
     "name": "stdout",
     "output_type": "stream",
     "text": [
      "Access Denied!\n"
     ]
    }
   ],
   "source": [
    "myName = input(\"My name is: \")\n",
    "if myName == \"Azfar\":\n",
    "    print(\"Welcome Sir\")\n",
    "else:\n",
    "    print(\"Access Denied!\")"
   ]
  },
  {
   "cell_type": "code",
   "execution_count": 9,
   "metadata": {},
   "outputs": [
    {
     "name": "stdout",
     "output_type": "stream",
     "text": [
      "Welcome to choose your Sci-Fi Hero\n",
      "__________________\n",
      "\n",
      "Nice..\n",
      "ooo\n",
      "Welcome hero from Yes Who is not evil No\n"
     ]
    }
   ],
   "source": [
    "print(\"Welcome to choose your Sci-Fi Hero\")\n",
    "print(\"__________________\")\n",
    "print(\"\")\n",
    "fromAsia = input(\"Are you from Asia?\")\n",
    "if fromAsia == \"Yes\":\n",
    "    print(\"Nice..\")\n",
    "else:\n",
    "    print(\"Okay let me see\")\n",
    "isEvil = input(\"Are you.. evil?\")\n",
    "if isEvil == \"Yes\":\n",
    "    print(\"Ah!\")\n",
    "else:\n",
    "    print(\"ooo\")\n",
    "\n",
    "print(\"Welcome hero from\",fromAsia,\"Who is not evil\",isEvil)\n"
   ]
  }
 ],
 "metadata": {
  "kernelspec": {
   "display_name": "test",
   "language": "python",
   "name": "python3"
  },
  "language_info": {
   "codemirror_mode": {
    "name": "ipython",
    "version": 3
   },
   "file_extension": ".py",
   "mimetype": "text/x-python",
   "name": "python",
   "nbconvert_exporter": "python",
   "pygments_lexer": "ipython3",
   "version": "3.9.16"
  },
  "orig_nbformat": 4
 },
 "nbformat": 4,
 "nbformat_minor": 2
}
