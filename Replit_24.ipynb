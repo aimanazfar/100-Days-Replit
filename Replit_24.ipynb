{
 "cells": [
  {
   "cell_type": "code",
   "execution_count": 5,
   "metadata": {},
   "outputs": [
    {
     "name": "stdout",
     "output_type": "stream",
     "text": [
      "Yeah, that's great I suppose...\n",
      "So you want a carrot cake on a biscuit base with icing on top?\n"
     ]
    }
   ],
   "source": [
    "def whichCake(ingredient, base, coating):\n",
    "  if ingredient == \"chocolate\":\n",
    "    print(\"Mmm, chocolate cake is amazing\")\n",
    "  elif ingredient == \"broccoli\":\n",
    "    print(\"You what mate?!\")\n",
    "  else: \n",
    "    print(\"Yeah, that's great I suppose...\")\n",
    "  print(\"So you want a\", ingredient, \"cake on a\", base, \"base with\", coating, \"on top?\")\n",
    "\n",
    "whichCake(\"carrot\", \"biscuit\", \"icing\")"
   ]
  },
  {
   "cell_type": "code",
   "execution_count": 6,
   "metadata": {},
   "outputs": [
    {
     "name": "stdout",
     "output_type": "stream",
     "text": [
      "You what mate?!\n",
      "So you want a broccoli cake on a cram base with chocolate on top?\n"
     ]
    }
   ],
   "source": [
    "def whichCake(ingredient, base, coating):\n",
    "  if ingredient == \"chocolate\":\n",
    "    print(\"Mmm, chocolate cake is amazing\")\n",
    "  elif ingredient == \"broccoli\":\n",
    "    print(\"You what mate?!\")\n",
    "  else: \n",
    "    print(\"Yeah, that's great I suppose...\")\n",
    "  print(\"So you want a\", ingredient, \"cake on a\", base, \"base with\", coating, \"on top?\")\n",
    "\n",
    "userIngredient = input(\"Name an ingredient: \")\n",
    "userBase = input(\"Name a type of base: \")\n",
    "userCoating = input(\"Fave cake topping: \")\n",
    "whichCake(userIngredient, userBase, userCoating)"
   ]
  },
  {
   "cell_type": "code",
   "execution_count": 10,
   "metadata": {},
   "outputs": [
    {
     "name": "stdout",
     "output_type": "stream",
     "text": [
      "332 is bigger\n"
     ]
    }
   ],
   "source": [
    "def biggerNumber(number1, number2):\n",
    "  if(number1 > number2):\n",
    "    print(number1, \"is bigger\")\n",
    "  else:\n",
    "    print(number2, \"is bigger\")\n",
    "\n",
    "biggerNumber (18,332)"
   ]
  },
  {
   "cell_type": "code",
   "execution_count": 14,
   "metadata": {},
   "outputs": [
    {
     "name": "stdout",
     "output_type": "stream",
     "text": [
      "pepperoni is a great choice\n",
      "pineapple sounds delicious, much better than pepperoni\n"
     ]
    }
   ],
   "source": [
    "def pizza_order(topping1, topping2):\n",
    "  if topping1 == \"pepperoni\":\n",
    "    print(topping1, \"is a great choice\")\n",
    "  else:\n",
    "    print(topping1, \"is kinda lame on pizza\")\n",
    "  print(topping2, \"sounds delicious, much better than\", topping1)\n",
    "  \n",
    "topping1 =  input(\"Name a pizza topping. \")\n",
    "topping2 = input(\"Name a second pizza topping. \")\n",
    "\n",
    "pizza_order(topping1, topping2)"
   ]
  },
  {
   "cell_type": "code",
   "execution_count": 21,
   "metadata": {},
   "outputs": [
    {
     "name": "stdout",
     "output_type": "stream",
     "text": [
      "Infinity Dice!\n",
      "93\n",
      "56\n",
      "4\n",
      "95\n",
      "Game is finished\n"
     ]
    }
   ],
   "source": [
    "\n",
    "import random\n",
    "\n",
    "print(\"Infinity Dice!\")\n",
    "side = int(input(\"Pick the number of sides:\"))\n",
    "rollDice(side)\n",
    "\n",
    "def rollDice(side):\n",
    "    rollNumber = random.randint(1,side)\n",
    "    print(rollNumber)\n",
    "    \n",
    "    rollAgain = input(\"Roll again?\")\n",
    "\n",
    "    if rollAgain == \"Y\":\n",
    "        rollDice(side)\n",
    "    else:\n",
    "        print(\"Game is finished\")\n",
    "        exit\n",
    "\n"
   ]
  },
  {
   "cell_type": "code",
   "execution_count": null,
   "metadata": {},
   "outputs": [],
   "source": [
    "import random\n",
    "print(\"Infinity Dice 🎲\")\n",
    "  \n",
    "sides = int(input(\"How many sides?: \"))\n",
    "playGame = \"yes\"\n",
    "  \n",
    "def rollDice(sides):\n",
    "  print(\"You rolled \", random.randint(1,sides))\n",
    "while playGame == \"yes\":\n",
    "    rollDice(sides)\n",
    "    playGame = input(\"Roll again?\")"
   ]
  }
 ],
 "metadata": {
  "kernelspec": {
   "display_name": "test",
   "language": "python",
   "name": "python3"
  },
  "language_info": {
   "codemirror_mode": {
    "name": "ipython",
    "version": 3
   },
   "file_extension": ".py",
   "mimetype": "text/x-python",
   "name": "python",
   "nbconvert_exporter": "python",
   "pygments_lexer": "ipython3",
   "version": "3.9.16"
  },
  "orig_nbformat": 4
 },
 "nbformat": 4,
 "nbformat_minor": 2
}
