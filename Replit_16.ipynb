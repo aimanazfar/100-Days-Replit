{
 "cells": [
  {
   "cell_type": "code",
   "execution_count": 1,
   "metadata": {},
   "outputs": [
    {
     "name": "stdout",
     "output_type": "stream",
     "text": [
      "Yeay I'm free!\n",
      "Yeay I'm free!\n",
      "Yeay I'm free!\n",
      "Yeay I'm free!\n",
      "NOOOO\n"
     ]
    }
   ],
   "source": [
    "while True :\n",
    "    print(\"Yeay I'm free!\")\n",
    "    free = input(\"Let the 🐜 free?\")\n",
    "    if free == \"No\" or free == \"nope\" :\n",
    "        break\n",
    "print(\"NOOOO\")"
   ]
  },
  {
   "cell_type": "code",
   "execution_count": 2,
   "metadata": {},
   "outputs": [
    {
     "name": "stdout",
     "output_type": "stream",
     "text": [
      "Welcome to guess the lyric\n",
      "Never gonna ____ you up\n",
      "Never gonna ____ you up\n",
      "Never gonna ____ you up\n",
      "Never gonna ____ you up\n",
      "Never gonna ____ you up\n",
      "Never gonna ____ you up\n",
      "Nice! You got the answer in just 6 try!\n"
     ]
    }
   ],
   "source": [
    "print(\"Welcome to guess the lyric\")\n",
    "counter = 0\n",
    "\n",
    "while True :\n",
    "    print(\"Never gonna ____ you up\")\n",
    "    answer = input(\"Fill in the blank:\")\n",
    "    counter += 1\n",
    "\n",
    "    if answer == \"give\" :\n",
    "        break\n",
    "print(\"Nice! You got the answer in just\",counter,\"try!\")"
   ]
  },
  {
   "cell_type": "code",
   "execution_count": 2,
   "metadata": {},
   "outputs": [
    {
     "name": "stdout",
     "output_type": "stream",
     "text": [
      "48\n"
     ]
    }
   ],
   "source": [
    "def area_square(side1,side2):\n",
    "  area = side1 * side2\n",
    "  return area\n",
    "\n",
    "area = area_square(4, 12)\n",
    "print(area)"
   ]
  }
 ],
 "metadata": {
  "kernelspec": {
   "display_name": "test",
   "language": "python",
   "name": "python3"
  },
  "language_info": {
   "codemirror_mode": {
    "name": "ipython",
    "version": 3
   },
   "file_extension": ".py",
   "mimetype": "text/x-python",
   "name": "python",
   "nbconvert_exporter": "python",
   "pygments_lexer": "ipython3",
   "version": "3.9.16"
  },
  "orig_nbformat": 4
 },
 "nbformat": 4,
 "nbformat_minor": 2
}
